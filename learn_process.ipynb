{
  "nbformat": 4,
  "nbformat_minor": 0,
  "metadata": {
    "colab": {
      "provenance": []
    },
    "kernelspec": {
      "name": "python3",
      "display_name": "Python 3"
    },
    "language_info": {
      "name": "python"
    }
  },
  "cells": [
    {
      "cell_type": "code",
      "execution_count": null,
      "metadata": {
        "id": "yuqy7YHr-PNn"
      },
      "outputs": [],
      "source": []
    },
    {
      "cell_type": "markdown",
      "source": [
        "# learn process"
      ],
      "metadata": {
        "id": "BxF4ijnv-oiQ"
      }
    },
    {
      "cell_type": "code",
      "source": [],
      "metadata": {
        "id": "kq659_9Y-tiN"
      },
      "execution_count": null,
      "outputs": []
    },
    {
      "cell_type": "markdown",
      "source": [
        "\n",
        "1 what is your name\n",
        "  - my name is manoj sharma"
      ],
      "metadata": {
        "id": "_fp_clhz_taK"
      }
    }
  ]
}